{
 "cells": [
  {
   "cell_type": "markdown",
   "metadata": {},
   "source": [
    "## Python's requests package\n",
    "\n",
    "### A. Scrapping HTML webpages\n",
    "Python's requests package allow you to perform HTTP requests. "
   ]
  },
  {
   "cell_type": "code",
   "execution_count": null,
   "metadata": {},
   "outputs": [],
   "source": [
    "import requests \n",
    "from requests.exceptions import RequestException"
   ]
  },
  {
   "cell_type": "markdown",
   "metadata": {},
   "source": [
    "#### 1. Perform HTTP Request\n",
    "\n",
    "We will begin by creating a \"url\" variable that contains the URL of the webpage we want to retrieve data from. We can then use the \"get\" method, which performs the HTTP requests and returns a requests.Response Python object."
   ]
  },
  {
   "cell_type": "code",
   "execution_count": null,
   "metadata": {},
   "outputs": [],
   "source": [
    "url = 'http://composingprograms.com/shakespeare.txt' \n",
    "r = requests.get(url) \n",
    "print(type(r))"
   ]
  },
  {
   "cell_type": "markdown",
   "metadata": {},
   "source": [
    "The \"text\" method returns the text content of the webpage."
   ]
  },
  {
   "cell_type": "code",
   "execution_count": null,
   "metadata": {},
   "outputs": [],
   "source": [
    "# requests.text contains the HTTP response content body\n",
    "text = r.text\n",
    "print(text[:200])"
   ]
  },
  {
   "cell_type": "code",
   "execution_count": null,
   "metadata": {},
   "outputs": [],
   "source": [
    "# access the response body as bytes (returns binary data)\n",
    "r.content[:200] "
   ]
  },
  {
   "cell_type": "markdown",
   "metadata": {},
   "source": [
    "Methods to access the details of the HTTP requests are also provided."
   ]
  },
  {
   "cell_type": "code",
   "execution_count": null,
   "metadata": {
    "scrolled": true
   },
   "outputs": [],
   "source": [
    "# The request information is saved as a Python object in r.request: \n",
    "print(r.request)"
   ]
  },
  {
   "cell_type": "code",
   "execution_count": null,
   "metadata": {},
   "outputs": [],
   "source": [
    "# What were the HTTP request headers? \n",
    "request_headers = r.request.headers\n",
    "print(request_headers)"
   ]
  },
  {
   "cell_type": "code",
   "execution_count": null,
   "metadata": {},
   "outputs": [],
   "source": [
    "request_headers['User-Agent']"
   ]
  },
  {
   "cell_type": "markdown",
   "metadata": {},
   "source": [
    "Other methods allow more information on the HTTP request response such as status code, status message, reponse headers, etc. "
   ]
  },
  {
   "cell_type": "code",
   "execution_count": null,
   "metadata": {},
   "outputs": [],
   "source": [
    "# Which HTTP status code did we get back from the server? \n",
    "print(r.status_code) "
   ]
  },
  {
   "cell_type": "code",
   "execution_count": null,
   "metadata": {},
   "outputs": [],
   "source": [
    "# If the response was successful, no Exception will be raised\n",
    "# otherwise HTTPError will be raised for certain status codes\n",
    "r.raise_for_status()"
   ]
  },
  {
   "cell_type": "markdown",
   "metadata": {},
   "source": [
    "If we made a bad request, the above method will return code like 404 or 405 which will raise an http error.\n",
    "\n",
    "HTTP response codes indicate whether a specific HTTP request has been sucessfully completed. Responses are grouped in five classes and error codes in each class have their own meaning. For more information on status codes, visit https://developer.mozilla.org/en-US/docs/Web/HTTP/Status"
   ]
  },
  {
   "cell_type": "code",
   "execution_count": null,
   "metadata": {},
   "outputs": [],
   "source": [
    "# What is the textual status code? \n",
    "print(r.reason) "
   ]
  },
  {
   "cell_type": "code",
   "execution_count": null,
   "metadata": {},
   "outputs": [],
   "source": [
    "# What were the HTTP response headers? \n",
    "print(r.headers)"
   ]
  },
  {
   "cell_type": "markdown",
   "metadata": {},
   "source": [
    "#### 2. Working with URLs with Parameters\n",
    "\n",
    "Urls may contain \"query string\" that is meant to contain data that does not fit within a URL's normal hierarchical path structure. "
   ]
  },
  {
   "cell_type": "code",
   "execution_count": null,
   "metadata": {},
   "outputs": [],
   "source": [
    "url = 'https://finance.yahoo.com/quote/%5EGSPC/history'\n",
    "parameters = {'period1':1551648546,\n",
    "              'period2':1583270946,\n",
    "              'interval':'1d',\n",
    "              'filter':'history',\n",
    "              'frequency':'1d'\n",
    "             }\n",
    "\n",
    "# perform HTTP GET request\n",
    "r = requests.get(url, params=parameters) \n",
    "\n",
    "# The HTTP response content: \n",
    "print(r.url)\n",
    "print(r.text)"
   ]
  },
  {
   "cell_type": "markdown",
   "metadata": {},
   "source": [
    "In recent years, most web frameworks will allow us to define \"nice looking\" URLs that just include the parameters in the path of a URL, for example, \"/product/307/\" instead of \"products.html?p=307\". Hence, there might be dynamic parts in the URL to which the server might respond in different ways.\n",
    "\n",
    "\n",
    "In some circumstances, requests will try to help you out and encode some characters for you:"
   ]
  },
  {
   "cell_type": "code",
   "execution_count": null,
   "metadata": {},
   "outputs": [],
   "source": [
    "import requests\n",
    "url = 'https://finance.yahoo.com/quote/' + ' ^GSPC '\n",
    "r = requests.get(url)  \n",
    "print(r.url)\n",
    "r.text"
   ]
  },
  {
   "cell_type": "markdown",
   "metadata": {},
   "source": [
    "#### 3. Timeout\n",
    "\n",
    "WHen making requests to an external server, your system will need to wait upon the reponse before moving on. By default, requests will wait indefinitely on the response. So, you should almost always specify a timeout duration. You can use timeout parameter to do so. "
   ]
  },
  {
   "cell_type": "code",
   "execution_count": null,
   "metadata": {},
   "outputs": [],
   "source": [
    "import requests\n",
    "url = 'https://finance.yahoo.com/quote/' + ' ^GSPC '\n",
    "r = requests.get(url, timeout=1)  \n",
    "r"
   ]
  },
  {
   "cell_type": "markdown",
   "metadata": {},
   "source": [
    "You can also submit a timeout for the time you allow to establish a connection to the server. You can pass a tuple where the first item specifies the time to connect to the server and the second item specifies the time to wait on a response once the connection is established. \n",
    "\n",
    "Requests also provides methods for timeout exceptions."
   ]
  },
  {
   "cell_type": "code",
   "execution_count": null,
   "metadata": {},
   "outputs": [],
   "source": [
    "import requests\n",
    "url = 'https://finance.yahoo.com/quote/' + ' ^GSPC '\n",
    "r = requests.get(url, timeout=(2,5))  \n",
    "r"
   ]
  },
  {
   "cell_type": "markdown",
   "metadata": {},
   "source": [
    "### B. Working with APIs\n",
    "\n",
    "#### 1. Authentications\n",
    "\n",
    "You can use requests library also with APIs. Usually, API requires an authentication process before you can access it. You can provide this information in \"auth\" argument."
   ]
  },
  {
   "cell_type": "code",
   "execution_count": null,
   "metadata": {},
   "outputs": [],
   "source": [
    "from requests.auth import HTTPBasicAuth\n",
    "\n",
    "r = requests.get('https://api.yelp.com/v3/businesses/',\n",
    "#                  auth=('username','password')\n",
    "                 auth=HTTPBasicAuth('TOKEN', 'ACCESS_KEY' )\n",
    "                )\n"
   ]
  },
  {
   "cell_type": "markdown",
   "metadata": {},
   "source": [
    "Normally, however, you would not just copy paste your username and password on your code. A more secure and common form of authentication for several web APIs is to use OAuth. The requests-oauthlib allows to easily make OAuth1 authenticated requests.\n",
    "\n",
    "In order to access the yelp API using OAuth, you will need to first create an app and obtain your private API keys. \n",
    "Follow the instructions from their API documentation:\n",
    "https://www.yelp.com/developers/documentation/v3/authentication"
   ]
  },
  {
   "cell_type": "code",
   "execution_count": null,
   "metadata": {},
   "outputs": [],
   "source": [
    "from requests_oauthlib import OAuth1\n",
    "\n",
    "url = 'https://api.yelp.com/v3/businesses/'\n",
    "auth = OAuth1('YOUR_APP_KEY', 'YOUR_APP_SECRET',\n",
    "              'USER_OAUTH_TOKEN', 'USER_OAUTH_TOKEN_SECRET')\n",
    "requests.get(url, auth=auth)"
   ]
  },
  {
   "cell_type": "markdown",
   "metadata": {},
   "source": [
    "#### 2. Getting to know json data"
   ]
  },
  {
   "cell_type": "code",
   "execution_count": null,
   "metadata": {},
   "outputs": [],
   "source": [
    "url = 'https://api.coindesk.com/v1/bpi/historical/close'\n",
    "parameters = {'start':'2011-01-01',\n",
    "              'end':'2019-09-05'\n",
    "             }\n",
    "r = requests.get(url, parameters)\n",
    "if r.ok:\n",
    "    data = r.json()\n",
    "print(data)"
   ]
  },
  {
   "cell_type": "code",
   "execution_count": null,
   "metadata": {},
   "outputs": [],
   "source": [
    "type(data)"
   ]
  },
  {
   "cell_type": "code",
   "execution_count": null,
   "metadata": {},
   "outputs": [],
   "source": [
    "data.keys()"
   ]
  },
  {
   "cell_type": "code",
   "execution_count": null,
   "metadata": {},
   "outputs": [],
   "source": [
    "data['bpi']"
   ]
  },
  {
   "cell_type": "code",
   "execution_count": null,
   "metadata": {},
   "outputs": [],
   "source": [
    "import matplotlib as mpl\n",
    "import matplotlib.pyplot as plt\n",
    "from datetime import datetime as dt\n",
    "\n",
    "price = list(data['bpi'].values())\n",
    "period = list(data['bpi'].keys())\n",
    "date = [dt.strptime(i, '%Y-%m-%d') for i in period] \n",
    "plt.plot(date, price)\n",
    "plt.show()"
   ]
  },
  {
   "cell_type": "code",
   "execution_count": null,
   "metadata": {},
   "outputs": [],
   "source": []
  }
 ],
 "metadata": {
  "kernelspec": {
   "display_name": "Python 3",
   "language": "python",
   "name": "python3"
  },
  "language_info": {
   "codemirror_mode": {
    "name": "ipython",
    "version": 3
   },
   "file_extension": ".py",
   "mimetype": "text/x-python",
   "name": "python",
   "nbconvert_exporter": "python",
   "pygments_lexer": "ipython3",
   "version": "3.7.3"
  }
 },
 "nbformat": 4,
 "nbformat_minor": 4
}
